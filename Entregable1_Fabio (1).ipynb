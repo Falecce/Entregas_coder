{
 "cells": [
  {
   "attachments": {},
   "cell_type": "markdown",
   "id": "2b9d8ad5-0ba7-4f10-bbc4-963a950c85fa",
   "metadata": {
    "tags": []
   },
   "source": [
    "## Entregable 1\n",
    "#(Use el ejemplo de Lucas para poder hacer el entregable ya que de ninguna manera podia ahcer la conexión al redshift)\n",
    "\n",
    "Pasos a seguir:\n",
    "* Bajar datos de una API en formato JSON\n",
    "* Cargar datos en la tabla de Redshift\n",
    "\n",
    "Esto lo vamos a llevar a cabo usando `requests`, `Spark` y un driver de conexión de `Postgres`"
   ]
  },
  {
   "attachments": {},
   "cell_type": "markdown",
   "id": "c9ee5997-74e0-4ae9-a586-d36e2b3776be",
   "metadata": {
    "tags": []
   },
   "source": [
    "## 1) Bajar datos de una API en formato JSON\n",
    "Para este ejemplo vamos a usar la API de [Datos Argentina](https://www.datos.gob.ar/)\n",
    "\n",
    "Y nos vamos a traer los datos de: Exportaciones de cereales. En millones de dólares FOB\n",
    "\n",
    "Para probar la API ir a: [API de Series de Tiempo AR: Generador de URLs](https://datosgobar.github.io/series-tiempo-ar-call-generator/)"
   ]
  },
  {
   "cell_type": "code",
   "execution_count": 1,
   "id": "2b8041f0-c750-42c3-8943-515cd0131743",
   "metadata": {
    "tags": []
   },
   "outputs": [],
   "source": [
    "import requests\n",
    "import urllib.parse\n",
    "\n",
    "def get_api_call(ids, **kwargs):\n",
    "    API_BASE_URL = \"https://apis.datos.gob.ar/series/api/\"\n",
    "    kwargs[\"ids\"] = \",\".join(ids)\n",
    "    return \"{}{}?{}\".format(API_BASE_URL, \"series\", urllib.parse.urlencode(kwargs))"
   ]
  },
  {
   "cell_type": "code",
   "execution_count": 2,
   "id": "697c682c-f3f5-4662-8a63-cd33cd34444b",
   "metadata": {
    "tags": []
   },
   "outputs": [
    {
     "name": "stdout",
     "output_type": "stream",
     "text": [
      "https://apis.datos.gob.ar/series/api/series?ids=Automotriz_expos_ItCfsr\n"
     ]
    }
   ],
   "source": [
    "# Ejemplo: https://apis.datos.gob.ar/series/api/series?ids=Automotriz_expos_ItCfsr\n",
    "api_call = get_api_call([\"Automotriz_expos_ItCfsr\"])\n",
    "print(api_call)"
   ]
  },
  {
   "cell_type": "code",
   "execution_count": 3,
   "id": "3b04e992-36f2-4e9b-9a9a-bc417426f700",
   "metadata": {
    "tags": []
   },
   "outputs": [
    {
     "name": "stdout",
     "output_type": "stream",
     "text": [
      "{'data': [['2003-01-01', 9504.0], ['2003-02-01', 7216.0], ['2003-03-01', 9454.0], ['2003-04-01', 10656.0], ['2003-05-01', 8671.0], ['2003-06-01', 8715.0], ['2003-07-01', 8633.0], ['2003-08-01', 9012.0], ['2003-09-01', 9999.0], ['2003-10-01', 8838.0], ['2003-11-01', 7646.0], ['2003-12-01', 9713.0], ['2004-01-01', 5323.0], ['2004-02-01', 10250.0], ['2004-03-01', 10857.0], ['2004-04-01', 11559.0], ['2004-05-01', 11539.0], ['2004-06-01', 8567.0], ['2004-07-01', 13011.0], ['2004-08-01', 12648.0], ['2004-09-01', 14900.0], ['2004-10-01', 16473.0], ['2004-11-01', 16448.0], ['2004-12-01', 14661.0], ['2005-01-01', 10804.0], ['2005-02-01', 9007.0], ['2005-03-01', 15134.0], ['2005-04-01', 14291.0], ['2005-05-01', 14137.0], ['2005-06-01', 13177.0], ['2005-07-01', 16753.0], ['2005-08-01', 18019.0], ['2005-09-01', 15995.0], ['2005-10-01', 19783.0], ['2005-11-01', 19671.0], ['2005-12-01', 14810.0], ['2006-01-01', 5155.0], ['2006-02-01', 12793.0], ['2006-03-01', 19557.0], ['2006-04-01', 19492.0], ['2006-05-01', 17076.0], ['2006-06-01', 19960.0], ['2006-07-01', 20174.0], ['2006-08-01', 22496.0], ['2006-09-01', 22209.0], ['2006-10-01', 25693.0], ['2006-11-01', 29995.0], ['2006-12-01', 22189.0], ['2007-01-01', 9884.0], ['2007-02-01', 20192.0], ['2007-03-01', 22782.0], ['2007-04-01', 18872.0], ['2007-05-01', 24174.0], ['2007-06-01', 27155.0], ['2007-07-01', 26326.0], ['2007-08-01', 35145.0], ['2007-09-01', 32924.0], ['2007-10-01', 34644.0], ['2007-11-01', 36998.0], ['2007-12-01', 27314.0], ['2008-01-01', 20476.0], ['2008-02-01', 23395.0], ['2008-03-01', 24626.0], ['2008-04-01', 30640.0], ['2008-05-01', 29556.0], ['2008-06-01', 29216.0], ['2008-07-01', 39018.0], ['2008-08-01', 32326.0], ['2008-09-01', 38591.0], ['2008-10-01', 39063.0], ['2008-11-01', 27905.0], ['2008-12-01', 16280.0], ['2009-01-01', 8190.0], ['2009-02-01', 8557.0], ['2009-03-01', 20739.0], ['2009-04-01', 23349.0], ['2009-05-01', 26344.0], ['2009-06-01', 29361.0], ['2009-07-01', 29517.0], ['2009-08-01', 29213.0], ['2009-09-01', 36515.0], ['2009-10-01', 36814.0], ['2009-11-01', 39337.0], ['2009-12-01', 34559.0], ['2010-01-01', 19474.0], ['2010-02-01', 23205.0], ['2010-03-01', 32765.0], ['2010-04-01', 32387.0], ['2010-05-01', 38900.0], ['2010-06-01', 40813.0], ['2010-07-01', 36988.0], ['2010-08-01', 42526.0], ['2010-09-01', 50071.0], ['2010-10-01', 40938.0], ['2010-11-01', 49740.0], ['2010-12-01', 40146.0], ['2011-01-01', 36444.0], ['2011-02-01', 25091.0], ['2011-03-01', 38994.0], ['2011-04-01', 42244.0]], 'count': 197, 'meta': [{'frequency': 'month', 'start_date': '2003-01-01', 'end_date': '2011-04-01'}, {'catalog': {'title': 'Estadisticas Productivas'}, 'dataset': {'title': 'Indicadores Sectoriales de Automotores', 'description': 'Resumen de los principales indicadores del sector Automotriz.', 'source': 'Ministerio de Producción. Secretaría de la Transformación Productiva. Subsecretaría de Desarrollo y Planeamiento Productivo.', 'issued': '2018-06-12'}, 'distribution': {'title': 'Automotriz: exportaciones de vehículos en unidades (series)', 'downloadURL': 'http://estadisticas.produccion.gob.ar/app/dataset/6/distribution/6.1/autom-expos-series.csv'}, 'field': {'description': 'Cantidad de vehículos exportados', 'id': 'Automotriz_expos_ItCfsr', 'units': 'Unidades', 'representation_mode': 'value', 'representation_mode_units': 'Unidades'}}], 'params': {'ids': 'Automotriz_expos_ItCfsr', 'identifiers': [{'id': 'Automotriz_expos_ItCfsr', 'distribution': '6.1', 'dataset': '6'}]}}\n"
     ]
    }
   ],
   "source": [
    "result = requests.get(api_call).json()\n",
    "print(result)"
   ]
  },
  {
   "attachments": {},
   "cell_type": "markdown",
   "id": "7f9d78ac-50eb-4385-80bb-4478be1240d3",
   "metadata": {},
   "source": [
    "## 2) Cargar datos en la tabla de Redshift\n",
    "\n",
    "```SQL\n",
    "create table if not exists fabiolecce93_coderhouse.vehiculos_exportados (\n",
    "    date_from VARCHAR(10) distkey,\n",
    "    cantidad decimal(10),\n",
    "    frequency varchar(12)\n",
    ") sortkey(date_from);\n",
    "```\n",
    "\n",
    "(Aca un tema que no entendi por que me pasaba, es que intente colocar la columna \"cantidad\" como INT y me tiraba error)"
   ]
  },
  {
   "cell_type": "code",
   "execution_count": 4,
   "id": "c0c4ae6a-6d33-48c5-bc76-78280bc5bb80",
   "metadata": {
    "tags": []
   },
   "outputs": [
    {
     "name": "stdout",
     "output_type": "stream",
     "text": [
      "Requirement already satisfied: psycopg2-binary in /opt/conda/lib/python3.10/site-packages (2.9.6)\n"
     ]
    }
   ],
   "source": [
    "!pip install psycopg2-binary"
   ]
  },
  {
   "cell_type": "code",
   "execution_count": 5,
   "id": "784bd8a8-1f06-4eed-b011-8c6b04b6f5df",
   "metadata": {
    "tags": []
   },
   "outputs": [],
   "source": [
    "# Crear sesion de Spark\n",
    "import os\n",
    "import psycopg2\n",
    "\n",
    "from pyspark.sql import SparkSession\n",
    "from pyspark.sql.functions import when, lit, col\n",
    "\n",
    "# Postgres and Redshift JDBCs\n",
    "driver_path = \"/home/coder/working_dir/driver_jdbc/postgresql-42.2.27.jre7.jar\"\n",
    "\n",
    "os.environ['PYSPARK_SUBMIT_ARGS'] = f'--driver-class-path {driver_path} --jars {driver_path} pyspark-shell'\n",
    "os.environ['SPARK_CLASSPATH'] = driver_path\n",
    "\n",
    "# Create SparkSession \n",
    "spark = SparkSession.builder \\\n",
    "        .master(\"local\") \\\n",
    "        .appName(\"Conexion entre Pyspark y Redshift\") \\\n",
    "        .config(\"spark.jars\", driver_path) \\\n",
    "        .config(\"spark.executor.extraClassPath\", driver_path) \\\n",
    "        .getOrCreate()"
   ]
  },
  {
   "cell_type": "code",
   "execution_count": 6,
   "id": "f82b7ea8-81ee-4a17-83e5-0b7a85542b6e",
   "metadata": {
    "tags": []
   },
   "outputs": [],
   "source": [
    "env = os.environ"
   ]
  },
  {
   "attachments": {},
   "cell_type": "markdown",
   "id": "6e5cd853-7e96-4ca9-b4e5-38e2d8da9395",
   "metadata": {},
   "source": [
    "Revisar documentación:\n",
    "* [AWS Redshift + Spark documentation](https://docs.aws.amazon.com/emr/latest/ReleaseGuide/emr-spark-redshift.html)\n",
    "* [Spark + Redshift connector](https://github.com/spark-redshift-community/spark-redshift#readme)"
   ]
  },
  {
   "cell_type": "code",
   "execution_count": 7,
   "id": "d6c9313b-f55d-41b6-b0b3-2028781bb352",
   "metadata": {
    "tags": []
   },
   "outputs": [],
   "source": [
    "# Connect to Redshift using psycopg2\n",
    "conn = psycopg2.connect(\n",
    "    host=env['AWS_REDSHIFT_HOST'],\n",
    "    port=env['AWS_REDSHIFT_PORT'],\n",
    "    dbname=env['AWS_REDSHIFT_DBNAME'],\n",
    "    user=env['AWS_REDSHIFT_USER'],\n",
    "    password=env['AWS_REDSHIFT_PASSWORD']\n",
    ")"
   ]
  },
  {
   "cell_type": "code",
   "execution_count": 8,
   "id": "09f4ae99-28b8-4deb-8efe-536a4fc924e9",
   "metadata": {
    "tags": []
   },
   "outputs": [
    {
     "name": "stdout",
     "output_type": "stream",
     "text": [
      "Table created!\n"
     ]
    }
   ],
   "source": [
    "cursor = conn.cursor()\n",
    "cursor.execute(f\"\"\"\n",
    "create table if not exists {env['AWS_REDSHIFT_SCHEMA']}.vehiculos_exportados (\n",
    "    date_from VARCHAR(10) distkey,\n",
    "    cantidad decimal(10),\n",
    "    frequency varchar(12)\n",
    ") sortkey(date_from);\n",
    "\"\"\")\n",
    "conn.commit()\n",
    "cursor.close()\n",
    "print(\"Table created!\")"
   ]
  },
  {
   "cell_type": "code",
   "execution_count": 9,
   "id": "f4fe5a1d-769a-4e42-975c-2391f27326cb",
   "metadata": {
    "tags": []
   },
   "outputs": [
    {
     "name": "stdout",
     "output_type": "stream",
     "text": [
      "vehiculos_exportados\n"
     ]
    }
   ],
   "source": [
    "cursor = conn.cursor()\n",
    "cursor.execute(f\"\"\"\n",
    "SELECT\n",
    "  distinct tablename\n",
    "FROM\n",
    "  PG_TABLE_DEF\n",
    "WHERE\n",
    "  schemaname = '{env['AWS_REDSHIFT_SCHEMA']}';\n",
    "\"\"\")\n",
    "# resultado = cursor.fetchall()\n",
    "print(\", \".join(map(lambda x: x[0], cursor.fetchall())))\n",
    "cursor.close()"
   ]
  },
  {
   "cell_type": "code",
   "execution_count": 10,
   "id": "5426b03c-0298-4331-a242-9d4c2b55bf5a",
   "metadata": {
    "tags": []
   },
   "outputs": [],
   "source": [
    "# Create the DataFrame with the specified column names\n",
    "df = spark.createDataFrame(result['data'], [\"date_from\", \"cantidad\"])"
   ]
  },
  {
   "cell_type": "code",
   "execution_count": 11,
   "id": "9e65938a-dd85-476a-b8d5-44e33227a8e2",
   "metadata": {
    "tags": []
   },
   "outputs": [
    {
     "name": "stdout",
     "output_type": "stream",
     "text": [
      "root\n",
      " |-- date_from: string (nullable = true)\n",
      " |-- cantidad: double (nullable = true)\n",
      "\n",
      "+----------+--------+\n",
      "| date_from|cantidad|\n",
      "+----------+--------+\n",
      "|2003-01-01|  9504.0|\n",
      "|2003-02-01|  7216.0|\n",
      "|2003-03-01|  9454.0|\n",
      "|2003-04-01| 10656.0|\n",
      "|2003-05-01|  8671.0|\n",
      "|2003-06-01|  8715.0|\n",
      "|2003-07-01|  8633.0|\n",
      "|2003-08-01|  9012.0|\n",
      "|2003-09-01|  9999.0|\n",
      "|2003-10-01|  8838.0|\n",
      "|2003-11-01|  7646.0|\n",
      "|2003-12-01|  9713.0|\n",
      "|2004-01-01|  5323.0|\n",
      "|2004-02-01| 10250.0|\n",
      "|2004-03-01| 10857.0|\n",
      "|2004-04-01| 11559.0|\n",
      "|2004-05-01| 11539.0|\n",
      "|2004-06-01|  8567.0|\n",
      "|2004-07-01| 13011.0|\n",
      "|2004-08-01| 12648.0|\n",
      "+----------+--------+\n",
      "only showing top 20 rows\n",
      "\n"
     ]
    }
   ],
   "source": [
    "df.printSchema()\n",
    "df.show()"
   ]
  },
  {
   "cell_type": "code",
   "execution_count": 12,
   "id": "6987abc0-1927-466c-aaea-79493449dcb9",
   "metadata": {
    "tags": []
   },
   "outputs": [
    {
     "name": "stdout",
     "output_type": "stream",
     "text": [
      "root\n",
      " |-- date_from: string (nullable = true)\n",
      " |-- cantidad: double (nullable = true)\n",
      " |-- frequency: string (nullable = false)\n",
      "\n",
      "+----------+--------+---------+\n",
      "| date_from|cantidad|frequency|\n",
      "+----------+--------+---------+\n",
      "|2003-01-01|  9504.0|  Mensual|\n",
      "|2003-02-01|  7216.0|  Mensual|\n",
      "|2003-03-01|  9454.0|  Mensual|\n",
      "|2003-04-01| 10656.0|  Mensual|\n",
      "|2003-05-01|  8671.0|  Mensual|\n",
      "|2003-06-01|  8715.0|  Mensual|\n",
      "|2003-07-01|  8633.0|  Mensual|\n",
      "|2003-08-01|  9012.0|  Mensual|\n",
      "|2003-09-01|  9999.0|  Mensual|\n",
      "|2003-10-01|  8838.0|  Mensual|\n",
      "|2003-11-01|  7646.0|  Mensual|\n",
      "|2003-12-01|  9713.0|  Mensual|\n",
      "|2004-01-01|  5323.0|  Mensual|\n",
      "|2004-02-01| 10250.0|  Mensual|\n",
      "|2004-03-01| 10857.0|  Mensual|\n",
      "|2004-04-01| 11559.0|  Mensual|\n",
      "|2004-05-01| 11539.0|  Mensual|\n",
      "|2004-06-01|  8567.0|  Mensual|\n",
      "|2004-07-01| 13011.0|  Mensual|\n",
      "|2004-08-01| 12648.0|  Mensual|\n",
      "+----------+--------+---------+\n",
      "only showing top 20 rows\n",
      "\n"
     ]
    }
   ],
   "source": [
    "df_to_write = df.withColumn('frequency', lit('Mensual'))\n",
    "df_to_write.printSchema()\n",
    "df_to_write.show()"
   ]
  },
  {
   "cell_type": "code",
   "execution_count": 13,
   "id": "846c31de-8995-45de-87ff-9f573852e8a4",
   "metadata": {
    "tags": []
   },
   "outputs": [],
   "source": [
    "df_to_write.write \\\n",
    "    .format(\"jdbc\") \\\n",
    "    .option(\"url\", f\"jdbc:postgresql://{env['AWS_REDSHIFT_HOST']}:{env['AWS_REDSHIFT_PORT']}/{env['AWS_REDSHIFT_DBNAME']}\") \\\n",
    "    .option(\"dbtable\", f\"{env['AWS_REDSHIFT_SCHEMA']}.vehiculos_exportados\") \\\n",
    "    .option(\"user\", env['AWS_REDSHIFT_USER']) \\\n",
    "    .option(\"password\", env['AWS_REDSHIFT_PASSWORD']) \\\n",
    "    .option(\"driver\", \"org.postgresql.Driver\") \\\n",
    "    .mode(\"overwrite\") \\\n",
    "    .save()"
   ]
  },
  {
   "cell_type": "code",
   "execution_count": 14,
   "id": "e42cca47-336f-4870-a528-b1c56d7c64b2",
   "metadata": {
    "tags": []
   },
   "outputs": [],
   "source": [
    "# Query Redshift using Spark SQL\n",
    "query = f\"select * from {env['AWS_REDSHIFT_SCHEMA']}.vehiculos_exportados\"\n",
    "data = spark.read \\\n",
    "    .format(\"jdbc\") \\\n",
    "    .option(\"url\", f\"jdbc:postgresql://{env['AWS_REDSHIFT_HOST']}:{env['AWS_REDSHIFT_PORT']}/{env['AWS_REDSHIFT_DBNAME']}\") \\\n",
    "    .option(\"dbtable\", f\"({query}) as tmp_table\") \\\n",
    "    .option(\"user\", env['AWS_REDSHIFT_USER']) \\\n",
    "    .option(\"password\", env['AWS_REDSHIFT_PASSWORD']) \\\n",
    "    .option(\"driver\", \"org.postgresql.Driver\") \\\n",
    "    .load()"
   ]
  },
  {
   "cell_type": "code",
   "execution_count": 15,
   "id": "f23e27db-346e-4905-8848-8179409a9139",
   "metadata": {
    "tags": []
   },
   "outputs": [
    {
     "name": "stdout",
     "output_type": "stream",
     "text": [
      "root\n",
      " |-- date_from: string (nullable = true)\n",
      " |-- cantidad: double (nullable = true)\n",
      " |-- frequency: string (nullable = true)\n",
      "\n",
      "+----------+--------+---------+\n",
      "| date_from|cantidad|frequency|\n",
      "+----------+--------+---------+\n",
      "|2003-01-01|  9504.0|  Mensual|\n",
      "|2003-02-01|  7216.0|  Mensual|\n",
      "|2003-03-01|  9454.0|  Mensual|\n",
      "|2003-04-01| 10656.0|  Mensual|\n",
      "|2003-05-01|  8671.0|  Mensual|\n",
      "|2003-06-01|  8715.0|  Mensual|\n",
      "|2003-07-01|  8633.0|  Mensual|\n",
      "|2003-08-01|  9012.0|  Mensual|\n",
      "|2003-09-01|  9999.0|  Mensual|\n",
      "|2003-10-01|  8838.0|  Mensual|\n",
      "|2003-11-01|  7646.0|  Mensual|\n",
      "|2003-12-01|  9713.0|  Mensual|\n",
      "|2004-01-01|  5323.0|  Mensual|\n",
      "|2004-02-01| 10250.0|  Mensual|\n",
      "|2004-03-01| 10857.0|  Mensual|\n",
      "|2004-04-01| 11559.0|  Mensual|\n",
      "|2004-05-01| 11539.0|  Mensual|\n",
      "|2004-06-01|  8567.0|  Mensual|\n",
      "|2004-07-01| 13011.0|  Mensual|\n",
      "|2004-08-01| 12648.0|  Mensual|\n",
      "+----------+--------+---------+\n",
      "only showing top 20 rows\n",
      "\n"
     ]
    }
   ],
   "source": [
    "data.printSchema()\n",
    "data.show()"
   ]
  },
  {
   "cell_type": "code",
   "execution_count": 16,
   "id": "311a75ef-818b-4b8d-9f48-43e62ca2f806",
   "metadata": {
    "tags": []
   },
   "outputs": [],
   "source": [
    "conn.close()"
   ]
  },
  {
   "cell_type": "code",
   "execution_count": null,
   "id": "37e0b31e-28c2-4135-9f37-6375e20f61ce",
   "metadata": {},
   "outputs": [],
   "source": []
  }
 ],
 "metadata": {
  "kernelspec": {
   "display_name": "Python 3 (ipykernel)",
   "language": "python",
   "name": "python3"
  },
  "language_info": {
   "codemirror_mode": {
    "name": "ipython",
    "version": 3
   },
   "file_extension": ".py",
   "mimetype": "text/x-python",
   "name": "python",
   "nbconvert_exporter": "python",
   "pygments_lexer": "ipython3",
   "version": "3.11.3"
  }
 },
 "nbformat": 4,
 "nbformat_minor": 5
}
