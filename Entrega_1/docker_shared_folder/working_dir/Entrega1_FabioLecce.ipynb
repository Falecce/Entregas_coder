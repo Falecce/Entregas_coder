{
 "cells": [
  {
   "cell_type": "markdown",
   "id": "2b9d8ad5-0ba7-4f10-bbc4-963a950c85fa",
   "metadata": {
    "tags": []
   },
   "source": [
    "# Entregable 1\n",
    "\n",
    "Pasos a seguir:\n",
    "* Bajar datos de una API en formato JSON\n",
    "* Cargar datos en la tabla de Redshift\n",
    "\n",
    "Esto lo haremos usando la libreria `requests`, `Spark` y un driver de conexión de `Postgres`"
   ]
  },
  {
   "cell_type": "markdown",
   "id": "c9ee5997-74e0-4ae9-a586-d36e2b3776be",
   "metadata": {
    "tags": []
   },
   "source": [
    "## 1) Bajar datos de una API en formato JSON\n",
    "Usaremos la API de [Datos Argentina](https://www.datos.gob.ar/)\n",
    "\n",
    "Y nos vamos a traer los datos de: De cantidad de automoviles producidos y exportados mensualmente\n",
    "\n",
    "Para probar la API ir a: [API de Series de Tiempo AR: Generador de URLs](https://datosgobar.github.io/series-tiempo-ar-call-generator/)"
   ]
  },
  {
   "cell_type": "code",
   "execution_count": 1,
   "id": "2b8041f0-c750-42c3-8943-515cd0131743",
   "metadata": {
    "tags": []
   },
   "outputs": [],
   "source": [
    "#importamos la Libreria request y definimos una funcion para llamar a la api\n",
    "\n",
    "import requests\n",
    "import urllib.parse\n",
    "\n",
    "def get_api_call(ids, **kwargs):\n",
    "    API_BASE_URL = \"https://apis.datos.gob.ar/series/api/\"\n",
    "    kwargs[\"ids\"] = \",\".join(ids)\n",
    "    return \"{}{}?{}\".format(API_BASE_URL, \"series\", urllib.parse.urlencode(kwargs))"
   ]
  },
  {
   "cell_type": "code",
   "execution_count": 2,
   "id": "697c682c-f3f5-4662-8a63-cd33cd34444b",
   "metadata": {
    "tags": []
   },
   "outputs": [
    {
     "name": "stdout",
     "output_type": "stream",
     "text": [
      "https://apis.datos.gob.ar/series/api/series?ids=Automotriz_produccion_s2nqOo%2CAutomotriz_expos_ItCfsr\n"
     ]
    }
   ],
   "source": [
    "# Ejemplo: https://apis.datos.gob.ar/series/api/series?ids=Automotriz_produccion_s2nqOo,Automotriz_expos_ItCfsr\n",
    "api_call = get_api_call([\"Automotriz_produccion_s2nqOo,Automotriz_expos_ItCfsr\"])\n",
    "print(api_call)"
   ]
  },
  {
   "cell_type": "code",
   "execution_count": 3,
   "id": "3b04e992-36f2-4e9b-9a9a-bc417426f700",
   "metadata": {
    "tags": []
   },
   "outputs": [
    {
     "name": "stdout",
     "output_type": "stream",
     "text": [
      "{'data': [['2003-01-01', 8752.0, 9504.0], ['2003-02-01', 9907.0, 7216.0], ['2003-03-01', 13906.0, 9454.0], ['2003-04-01', 15558.0, 10656.0], ['2003-05-01', 14134.0, 8671.0], ['2003-06-01', 13514.0, 8715.0], ['2003-07-01', 12134.0, 8633.0], ['2003-08-01', 15350.0, 9012.0], ['2003-09-01', 16342.0, 9999.0], ['2003-10-01', 16714.0, 8838.0], ['2003-11-01', 19403.0, 7646.0], ['2003-12-01', 13462.0, 9713.0], ['2004-01-01', 12016.0, 5323.0], ['2004-02-01', 14152.0, 10250.0], ['2004-03-01', 22190.0, 10857.0], ['2004-04-01', 20542.0, 11559.0], ['2004-05-01', 21513.0, 11539.0], ['2004-06-01', 22476.0, 8567.0], ['2004-07-01', 21203.0, 13011.0], ['2004-08-01', 23568.0, 12648.0], ['2004-09-01', 25635.0, 14900.0], ['2004-10-01', 25459.0, 16473.0], ['2004-11-01', 28861.0, 16448.0], ['2004-12-01', 22787.0, 14661.0], ['2005-01-01', 21543.0, 10804.0], ['2005-02-01', 12871.0, 9007.0], ['2005-03-01', 27948.0, 15134.0], ['2005-04-01', 27593.0, 14291.0], ['2005-05-01', 26675.0, 14137.0], ['2005-06-01', 26573.0, 13177.0], ['2005-07-01', 27713.0, 16753.0], ['2005-08-01', 29959.0, 18019.0], ['2005-09-01', 29734.0, 15995.0], ['2005-10-01', 30503.0, 19783.0], ['2005-11-01', 35461.0, 19671.0], ['2005-12-01', 23182.0, 14810.0], ['2006-01-01', 12343.0, 5155.0], ['2006-02-01', 29271.0, 12793.0], ['2006-03-01', 35424.0, 19557.0], ['2006-04-01', 33522.0, 19492.0], ['2006-05-01', 31736.0, 17076.0], ['2006-06-01', 35859.0, 19960.0], ['2006-07-01', 37735.0, 20174.0], ['2006-08-01', 41476.0, 22496.0], ['2006-09-01', 44271.0, 22209.0], ['2006-10-01', 42346.0, 25693.0], ['2006-11-01', 48411.0, 29995.0], ['2006-12-01', 39707.0, 22189.0], ['2007-01-01', 17057.0, 9884.0], ['2007-02-01', 35492.0, 20192.0], ['2007-03-01', 44886.0, 22782.0], ['2007-04-01', 41527.0, 18872.0], ['2007-05-01', 45352.0, 24174.0], ['2007-06-01', 47573.0, 27155.0], ['2007-07-01', 43964.0, 26326.0], ['2007-08-01', 53529.0, 35145.0], ['2007-09-01', 49875.0, 32924.0], ['2007-10-01', 55280.0, 34644.0], ['2007-11-01', 59437.0, 36998.0], ['2007-12-01', 50675.0, 27314.0], ['2008-01-01', 41228.0, 20476.0], ['2008-02-01', 33637.0, 23395.0], ['2008-03-01', 49591.0, 24626.0], ['2008-04-01', 54622.0, 30640.0], ['2008-05-01', 56019.0, 29556.0], ['2008-06-01', 51249.0, 29216.0], ['2008-07-01', 62179.0, 39018.0], ['2008-08-01', 58077.0, 32326.0], ['2008-09-01', 62944.0, 38591.0], ['2008-10-01', 58072.0, 39063.0], ['2008-11-01', 42752.0, 27905.0], ['2008-12-01', 26716.0, 16280.0], ['2009-01-01', 18720.0, 8190.0], ['2009-02-01', 14903.0, 8557.0], ['2009-03-01', 37904.0, 20739.0], ['2009-04-01', 37269.0, 23349.0], ['2009-05-01', 42783.0, 26344.0], ['2009-06-01', 44527.0, 29361.0], ['2009-07-01', 47219.0, 29517.0], ['2009-08-01', 47824.0, 29213.0], ['2009-09-01', 54691.0, 36515.0], ['2009-10-01', 57439.0, 36814.0], ['2009-11-01', 56493.0, 39337.0], ['2009-12-01', 53152.0, 34559.0], ['2010-01-01', 31602.0, 19474.0], ['2010-02-01', 40106.0, 23205.0], ['2010-03-01', 52669.0, 32765.0], ['2010-04-01', 57120.0, 32387.0], ['2010-05-01', 59723.0, 38900.0], ['2010-06-01', 65256.0, 40813.0], ['2010-07-01', 57596.0, 36988.0], ['2010-08-01', 71781.0, 42526.0], ['2010-09-01', 73323.0, 50071.0], ['2010-10-01', 65878.0, 40938.0], ['2010-11-01', 75529.0, 49740.0], ['2010-12-01', 65957.0, 40146.0], ['2011-01-01', 46948.0, 36444.0], ['2011-02-01', 42051.0, 25091.0], ['2011-03-01', 70487.0, 38994.0], ['2011-04-01', 72432.0, 42244.0]], 'count': 197, 'meta': [{'frequency': 'month', 'start_date': '2003-01-01', 'end_date': '2011-04-01'}, {'catalog': {'title': 'Estadisticas Productivas'}, 'dataset': {'title': 'Indicadores Sectoriales de Automotores', 'description': 'Resumen de los principales indicadores del sector Automotriz.', 'source': 'Ministerio de Producción. Secretaría de la Transformación Productiva. Subsecretaría de Desarrollo y Planeamiento Productivo.', 'issued': '2018-06-12'}, 'distribution': {'title': 'Automotriz: producción de vehículos en unidades (series)', 'downloadURL': 'http://estadisticas.produccion.gob.ar/app/dataset/6/distribution/6.5/autom-prod-series.csv'}, 'field': {'description': 'Automotriz: cantidad de vehículos producidos', 'id': 'Automotriz_produccion_s2nqOo', 'units': 'Unidades', 'representation_mode': 'value', 'representation_mode_units': 'Unidades'}}, {'catalog': {'title': 'Estadisticas Productivas'}, 'dataset': {'title': 'Indicadores Sectoriales de Automotores', 'description': 'Resumen de los principales indicadores del sector Automotriz.', 'source': 'Ministerio de Producción. Secretaría de la Transformación Productiva. Subsecretaría de Desarrollo y Planeamiento Productivo.', 'issued': '2018-06-12'}, 'distribution': {'title': 'Automotriz: exportaciones de vehículos en unidades (series)', 'downloadURL': 'http://estadisticas.produccion.gob.ar/app/dataset/6/distribution/6.1/autom-expos-series.csv'}, 'field': {'description': 'Cantidad de vehículos exportados', 'id': 'Automotriz_expos_ItCfsr', 'units': 'Unidades', 'representation_mode': 'value', 'representation_mode_units': 'Unidades'}}], 'params': {'ids': 'Automotriz_produccion_s2nqOo,Automotriz_expos_ItCfsr', 'identifiers': [{'id': 'Automotriz_produccion_s2nqOo', 'distribution': '6.5', 'dataset': '6'}, {'id': 'Automotriz_expos_ItCfsr', 'distribution': '6.1', 'dataset': '6'}]}}\n"
     ]
    }
   ],
   "source": [
    "#Una vez genereado el link usamos request para traernos los datos del la api e imprimimos\n",
    "result = requests.get(api_call).json()\n",
    "print(result)"
   ]
  },
  {
   "cell_type": "markdown",
   "id": "7f9d78ac-50eb-4385-80bb-4478be1240d3",
   "metadata": {},
   "source": [
    "##### (Ya con los datos de la api seguimos al segundo paso que seria cargar los datos en la tabla de Redshift)\n",
    "## 2) Cargar datos en la tabla de Redshift\n",
    "\n",
    "```SQL\n",
    "create table if not exists fabiolecce93_coderhouse.vehiculos_producidos_vs_exportados (\n",
    "    date_from VARCHAR(10) distkey,\n",
    "    vehiculos_producidos decimal(10),\n",
    "    vehiculos_exportados decimal(10),\n",
    "    frequency VARCHAR(12)\n",
    ") sortkey(date_from);\n",
    "```"
   ]
  },
  {
   "cell_type": "code",
   "execution_count": 4,
   "id": "c0c4ae6a-6d33-48c5-bc76-78280bc5bb80",
   "metadata": {
    "tags": []
   },
   "outputs": [
    {
     "name": "stdout",
     "output_type": "stream",
     "text": [
      "Requirement already satisfied: psycopg2-binary in /opt/conda/lib/python3.10/site-packages (2.9.6)\n"
     ]
    }
   ],
   "source": [
    "#intalamos psycopg2-binary\n",
    "!pip install psycopg2-binary"
   ]
  },
  {
   "cell_type": "code",
   "execution_count": 5,
   "id": "784bd8a8-1f06-4eed-b011-8c6b04b6f5df",
   "metadata": {
    "tags": []
   },
   "outputs": [],
   "source": [
    "# Crear sesion de Spark\n",
    "import os\n",
    "import psycopg2\n",
    "\n",
    "from pyspark.sql import SparkSession\n",
    "from pyspark.sql.functions import when, lit, col\n",
    "\n",
    "# Postgres and Redshift JDBCs\n",
    "driver_path = \"/home/coder/working_dir/driver_jdbc/postgresql-42.2.27.jre7.jar\"\n",
    "\n",
    "os.environ['PYSPARK_SUBMIT_ARGS'] = f'--driver-class-path {driver_path} --jars {driver_path} pyspark-shell'\n",
    "os.environ['SPARK_CLASSPATH'] = driver_path\n",
    "\n",
    "# Create SparkSession \n",
    "spark = SparkSession.builder \\\n",
    "        .master(\"local\") \\\n",
    "        .appName(\"Conexion entre Pyspark y Redshift\") \\\n",
    "        .config(\"spark.jars\", driver_path) \\\n",
    "        .config(\"spark.executor.extraClassPath\", driver_path) \\\n",
    "        .getOrCreate()"
   ]
  },
  {
   "cell_type": "code",
   "execution_count": 6,
   "id": "f82b7ea8-81ee-4a17-83e5-0b7a85542b6e",
   "metadata": {
    "tags": []
   },
   "outputs": [],
   "source": [
    "#creamos la variable env con os\n",
    "env = os.environ"
   ]
  },
  {
   "cell_type": "code",
   "execution_count": 7,
   "id": "d6c9313b-f55d-41b6-b0b3-2028781bb352",
   "metadata": {
    "tags": []
   },
   "outputs": [],
   "source": [
    "# Nos conectamos a Redshift usando psycopg2 y antes debemos tener el archivo .env creado con las credenciales\n",
    "conn = psycopg2.connect(\n",
    "    host=env['AWS_REDSHIFT_HOST'],\n",
    "    port=env['AWS_REDSHIFT_PORT'],\n",
    "    dbname=env['AWS_REDSHIFT_DBNAME'],\n",
    "    user=env['AWS_REDSHIFT_USER'],\n",
    "    password=env['AWS_REDSHIFT_PASSWORD']\n",
    ")"
   ]
  },
  {
   "cell_type": "code",
   "execution_count": 8,
   "id": "09f4ae99-28b8-4deb-8efe-536a4fc924e9",
   "metadata": {
    "tags": []
   },
   "outputs": [
    {
     "name": "stdout",
     "output_type": "stream",
     "text": [
      "Tabla creada!\n"
     ]
    }
   ],
   "source": [
    "#Creamos la tabla si no existe en el schema e imprimimos, si se creo la tabla se muestra \"Tabla creada!\"\n",
    "cursor = conn.cursor()\n",
    "cursor.execute(f\"\"\"\n",
    "create table if not exists {env['AWS_REDSHIFT_SCHEMA']}.vehiculos_producidos_vs_exportados (\n",
    "    date_from VARCHAR(10) distkey,\n",
    "    vehiculos_producidos decimal(10),\n",
    "    vehiculos_exportados decimal(10),\n",
    "    frequency varchar(12)\n",
    ") sortkey(date_from);\n",
    "\"\"\")\n",
    "conn.commit()\n",
    "cursor.close()\n",
    "print(\"Tabla creada!\")"
   ]
  },
  {
   "cell_type": "code",
   "execution_count": 9,
   "id": "f4fe5a1d-769a-4e42-975c-2391f27326cb",
   "metadata": {
    "tags": []
   },
   "outputs": [
    {
     "name": "stdout",
     "output_type": "stream",
     "text": [
      "vehiculos_exportados, vehiculos_producidos_vs_exportados\n"
     ]
    }
   ],
   "source": [
    "#comprobamos si se creo la tabla revisando los diferentes nombre de las tablas que tiene el schema\n",
    "cursor = conn.cursor()\n",
    "cursor.execute(f\"\"\"\n",
    "SELECT\n",
    "  distinct tablename\n",
    "FROM\n",
    "  PG_TABLE_DEF\n",
    "WHERE\n",
    "  schemaname = '{env['AWS_REDSHIFT_SCHEMA']}';\n",
    "\"\"\")\n",
    "# resultado = cursor.fetchall()\n",
    "print(\", \".join(map(lambda x: x[0], cursor.fetchall())))\n",
    "cursor.close()"
   ]
  },
  {
   "cell_type": "code",
   "execution_count": 10,
   "id": "5426b03c-0298-4331-a242-9d4c2b55bf5a",
   "metadata": {
    "tags": []
   },
   "outputs": [],
   "source": [
    "# Creamos el dataFrame con las diferentes columnas\n",
    "df = spark.createDataFrame(result['data'], [\"date_from\", \"vehiculos_producidos\", \"vehiculos_exportados\"])"
   ]
  },
  {
   "cell_type": "code",
   "execution_count": 27,
   "id": "9e65938a-dd85-476a-b8d5-44e33227a8e2",
   "metadata": {
    "tags": []
   },
   "outputs": [
    {
     "name": "stdout",
     "output_type": "stream",
     "text": [
      "root\n",
      " |-- date_from: string (nullable = true)\n",
      " |-- vehiculos_producidos: double (nullable = true)\n",
      " |-- vehiculos_exportados: double (nullable = true)\n",
      "\n",
      "+----------+--------------------+--------------------+\n",
      "| date_from|vehiculos_producidos|vehiculos_exportados|\n",
      "+----------+--------------------+--------------------+\n",
      "|2003-01-01|              8752.0|              9504.0|\n",
      "|2003-02-01|              9907.0|              7216.0|\n",
      "|2003-03-01|             13906.0|              9454.0|\n",
      "|2003-04-01|             15558.0|             10656.0|\n",
      "|2003-05-01|             14134.0|              8671.0|\n",
      "|2003-06-01|             13514.0|              8715.0|\n",
      "|2003-07-01|             12134.0|              8633.0|\n",
      "|2003-08-01|             15350.0|              9012.0|\n",
      "|2003-09-01|             16342.0|              9999.0|\n",
      "|2003-10-01|             16714.0|              8838.0|\n",
      "|2003-11-01|             19403.0|              7646.0|\n",
      "|2003-12-01|             13462.0|              9713.0|\n",
      "|2004-01-01|             12016.0|              5323.0|\n",
      "|2004-02-01|             14152.0|             10250.0|\n",
      "|2004-03-01|             22190.0|             10857.0|\n",
      "|2004-04-01|             20542.0|             11559.0|\n",
      "|2004-05-01|             21513.0|             11539.0|\n",
      "|2004-06-01|             22476.0|              8567.0|\n",
      "|2004-07-01|             21203.0|             13011.0|\n",
      "|2004-08-01|             23568.0|             12648.0|\n",
      "+----------+--------------------+--------------------+\n",
      "only showing top 20 rows\n",
      "\n"
     ]
    }
   ],
   "source": [
    "#imprimimos dataframe para ver los datos\n",
    "df.printSchema()\n",
    "df.show()"
   ]
  },
  {
   "cell_type": "code",
   "execution_count": 33,
   "id": "425831fb-8658-4326-a494-25c95ce405da",
   "metadata": {
    "tags": []
   },
   "outputs": [
    {
     "name": "stdout",
     "output_type": "stream",
     "text": [
      "root\n",
      " |-- date_from: string (nullable = true)\n",
      " |-- vehiculos_producidos: double (nullable = true)\n",
      " |-- vehiculos_exportados: double (nullable = true)\n",
      " |-- %_Porcentaje_exportacion: double (nullable = true)\n",
      "\n",
      "+----------+--------------------+--------------------+------------------------+\n",
      "| date_from|vehiculos_producidos|vehiculos_exportados|%_Porcentaje_exportacion|\n",
      "+----------+--------------------+--------------------+------------------------+\n",
      "|2003-01-01|              8752.0|              9504.0|      108.59232175502743|\n",
      "|2003-02-01|              9907.0|              7216.0|       72.83738770566266|\n",
      "|2003-03-01|             13906.0|              9454.0|       67.98504242772904|\n",
      "|2003-04-01|             15558.0|             10656.0|       68.49209409949864|\n",
      "|2003-05-01|             14134.0|              8671.0|       61.34852129616527|\n",
      "|2003-06-01|             13514.0|              8715.0|       64.48867840757732|\n",
      "|2003-07-01|             12134.0|              8633.0|       71.14718971485084|\n",
      "|2003-08-01|             15350.0|              9012.0|       58.71009771986971|\n",
      "|2003-09-01|             16342.0|              9999.0|       61.18590135846286|\n",
      "|2003-10-01|             16714.0|              8838.0|       52.87782697140122|\n",
      "|2003-11-01|             19403.0|              7646.0|       39.40627737978663|\n",
      "|2003-12-01|             13462.0|              9713.0|       72.15124052889615|\n",
      "|2004-01-01|             12016.0|              5323.0|       44.29926764314248|\n",
      "|2004-02-01|             14152.0|             10250.0|       72.42792538157151|\n",
      "|2004-03-01|             22190.0|             10857.0|      48.927444794952685|\n",
      "|2004-04-01|             20542.0|             11559.0|       56.27008081004771|\n",
      "|2004-05-01|             21513.0|             11539.0|       53.63733556454237|\n",
      "|2004-06-01|             22476.0|              8567.0|       38.11621284926144|\n",
      "|2004-07-01|             21203.0|             13011.0|       61.36395793048153|\n",
      "|2004-08-01|             23568.0|             12648.0|       53.66598778004073|\n",
      "+----------+--------------------+--------------------+------------------------+\n",
      "only showing top 20 rows\n",
      "\n"
     ]
    }
   ],
   "source": [
    "#Haremos una columna que sera el calculo del porcentaje de exportados sobre los producidos: 100*(exportados/producidos)(%)\n",
    "df2 = df.withColumn('%_Porcentaje_exportacion', 100*df.vehiculos_exportados/df.vehiculos_producidos)\n",
    "df2.printSchema()\n",
    "df2.show()"
   ]
  },
  {
   "cell_type": "code",
   "execution_count": 32,
   "id": "6987abc0-1927-466c-aaea-79493449dcb9",
   "metadata": {
    "tags": []
   },
   "outputs": [
    {
     "name": "stdout",
     "output_type": "stream",
     "text": [
      "root\n",
      " |-- date_from: string (nullable = true)\n",
      " |-- vehiculos_producidos: double (nullable = true)\n",
      " |-- vehiculos_exportados: double (nullable = true)\n",
      " |-- %_Porcentaje_exportacion: double (nullable = true)\n",
      " |-- frequency: string (nullable = false)\n",
      "\n",
      "+----------+--------------------+--------------------+------------------------+---------+\n",
      "| date_from|vehiculos_producidos|vehiculos_exportados|%_Porcentaje_exportacion|frequency|\n",
      "+----------+--------------------+--------------------+------------------------+---------+\n",
      "|2003-01-01|              8752.0|              9504.0|      108.59232175502743|  Mensual|\n",
      "|2003-02-01|              9907.0|              7216.0|       72.83738770566266|  Mensual|\n",
      "|2003-03-01|             13906.0|              9454.0|       67.98504242772904|  Mensual|\n",
      "|2003-04-01|             15558.0|             10656.0|       68.49209409949864|  Mensual|\n",
      "|2003-05-01|             14134.0|              8671.0|       61.34852129616527|  Mensual|\n",
      "|2003-06-01|             13514.0|              8715.0|       64.48867840757732|  Mensual|\n",
      "|2003-07-01|             12134.0|              8633.0|       71.14718971485084|  Mensual|\n",
      "|2003-08-01|             15350.0|              9012.0|       58.71009771986971|  Mensual|\n",
      "|2003-09-01|             16342.0|              9999.0|       61.18590135846286|  Mensual|\n",
      "|2003-10-01|             16714.0|              8838.0|       52.87782697140122|  Mensual|\n",
      "|2003-11-01|             19403.0|              7646.0|       39.40627737978663|  Mensual|\n",
      "|2003-12-01|             13462.0|              9713.0|       72.15124052889615|  Mensual|\n",
      "|2004-01-01|             12016.0|              5323.0|       44.29926764314248|  Mensual|\n",
      "|2004-02-01|             14152.0|             10250.0|       72.42792538157151|  Mensual|\n",
      "|2004-03-01|             22190.0|             10857.0|      48.927444794952685|  Mensual|\n",
      "|2004-04-01|             20542.0|             11559.0|       56.27008081004771|  Mensual|\n",
      "|2004-05-01|             21513.0|             11539.0|       53.63733556454237|  Mensual|\n",
      "|2004-06-01|             22476.0|              8567.0|       38.11621284926144|  Mensual|\n",
      "|2004-07-01|             21203.0|             13011.0|       61.36395793048153|  Mensual|\n",
      "|2004-08-01|             23568.0|             12648.0|       53.66598778004073|  Mensual|\n",
      "+----------+--------------------+--------------------+------------------------+---------+\n",
      "only showing top 20 rows\n",
      "\n"
     ]
    }
   ],
   "source": [
    "#Agregaremos otra columna literaria donde esrcibiremos la frecuencia que sera mensual\n",
    "df_to_write = df2.withColumn('frequency', lit('Mensual'))\n",
    "df_to_write.printSchema()\n",
    "df_to_write.show()"
   ]
  },
  {
   "cell_type": "code",
   "execution_count": 24,
   "id": "846c31de-8995-45de-87ff-9f573852e8a4",
   "metadata": {
    "tags": []
   },
   "outputs": [],
   "source": [
    "df_to_write.write \\\n",
    "    .format(\"jdbc\") \\\n",
    "    .option(\"url\", f\"jdbc:postgresql://{env['AWS_REDSHIFT_HOST']}:{env['AWS_REDSHIFT_PORT']}/{env['AWS_REDSHIFT_DBNAME']}\") \\\n",
    "    .option(\"dbtable\", f\"{env['AWS_REDSHIFT_SCHEMA']}.vehiculos_producidos_vs_exportados\") \\\n",
    "    .option(\"user\", env['AWS_REDSHIFT_USER']) \\\n",
    "    .option(\"password\", env['AWS_REDSHIFT_PASSWORD']) \\\n",
    "    .option(\"driver\", \"org.postgresql.Driver\") \\\n",
    "    .mode(\"overwrite\") \\\n",
    "    .save()"
   ]
  },
  {
   "cell_type": "code",
   "execution_count": 25,
   "id": "e42cca47-336f-4870-a528-b1c56d7c64b2",
   "metadata": {
    "tags": []
   },
   "outputs": [],
   "source": [
    "# Query Redshift usando Spark SQL\n",
    "query = f\"select * from {env['AWS_REDSHIFT_SCHEMA']}.vehiculos_producidos_vs_exportados\"\n",
    "data = spark.read \\\n",
    "    .format(\"jdbc\") \\\n",
    "    .option(\"url\", f\"jdbc:postgresql://{env['AWS_REDSHIFT_HOST']}:{env['AWS_REDSHIFT_PORT']}/{env['AWS_REDSHIFT_DBNAME']}\") \\\n",
    "    .option(\"dbtable\", f\"({query}) as tmp_table\") \\\n",
    "    .option(\"user\", env['AWS_REDSHIFT_USER']) \\\n",
    "    .option(\"password\", env['AWS_REDSHIFT_PASSWORD']) \\\n",
    "    .option(\"driver\", \"org.postgresql.Driver\") \\\n",
    "    .load()"
   ]
  },
  {
   "cell_type": "code",
   "execution_count": 26,
   "id": "f23e27db-346e-4905-8848-8179409a9139",
   "metadata": {
    "tags": []
   },
   "outputs": [
    {
     "name": "stdout",
     "output_type": "stream",
     "text": [
      "root\n",
      " |-- date_from: string (nullable = true)\n",
      " |-- vehiculos_producidos: double (nullable = true)\n",
      " |-- vehiculos_exportados: double (nullable = true)\n",
      " |-- %_porcentaje_exportacion: double (nullable = true)\n",
      " |-- frequency: string (nullable = true)\n",
      "\n",
      "+----------+--------------------+--------------------+------------------------+---------+\n",
      "| date_from|vehiculos_producidos|vehiculos_exportados|%_porcentaje_exportacion|frequency|\n",
      "+----------+--------------------+--------------------+------------------------+---------+\n",
      "|2003-01-01|              8752.0|              9504.0|      108.59232175502743|  Mensual|\n",
      "|2003-02-01|              9907.0|              7216.0|       72.83738770566266|  Mensual|\n",
      "|2003-03-01|             13906.0|              9454.0|       67.98504242772904|  Mensual|\n",
      "|2003-04-01|             15558.0|             10656.0|       68.49209409949864|  Mensual|\n",
      "|2003-05-01|             14134.0|              8671.0|       61.34852129616527|  Mensual|\n",
      "|2003-06-01|             13514.0|              8715.0|       64.48867840757732|  Mensual|\n",
      "|2003-07-01|             12134.0|              8633.0|       71.14718971485084|  Mensual|\n",
      "|2003-08-01|             15350.0|              9012.0|       58.71009771986971|  Mensual|\n",
      "|2003-09-01|             16342.0|              9999.0|       61.18590135846286|  Mensual|\n",
      "|2003-10-01|             16714.0|              8838.0|       52.87782697140122|  Mensual|\n",
      "|2003-11-01|             19403.0|              7646.0|       39.40627737978663|  Mensual|\n",
      "|2003-12-01|             13462.0|              9713.0|       72.15124052889615|  Mensual|\n",
      "|2004-01-01|             12016.0|              5323.0|       44.29926764314248|  Mensual|\n",
      "|2004-02-01|             14152.0|             10250.0|       72.42792538157151|  Mensual|\n",
      "|2004-03-01|             22190.0|             10857.0|      48.927444794952685|  Mensual|\n",
      "|2004-04-01|             20542.0|             11559.0|       56.27008081004771|  Mensual|\n",
      "|2004-05-01|             21513.0|             11539.0|       53.63733556454237|  Mensual|\n",
      "|2004-06-01|             22476.0|              8567.0|       38.11621284926144|  Mensual|\n",
      "|2004-07-01|             21203.0|             13011.0|       61.36395793048153|  Mensual|\n",
      "|2004-08-01|             23568.0|             12648.0|       53.66598778004073|  Mensual|\n",
      "+----------+--------------------+--------------------+------------------------+---------+\n",
      "only showing top 20 rows\n",
      "\n"
     ]
    }
   ],
   "source": [
    "#imprimimos como que la data en la tabla\n",
    "data.printSchema()\n",
    "data.show()"
   ]
  },
  {
   "cell_type": "code",
   "execution_count": 31,
   "id": "311a75ef-818b-4b8d-9f48-43e62ca2f806",
   "metadata": {
    "tags": []
   },
   "outputs": [],
   "source": [
    "#Cerramos la conexión\n",
    "conn.close()"
   ]
  },
  {
   "cell_type": "code",
   "execution_count": null,
   "id": "37e0b31e-28c2-4135-9f37-6375e20f61ce",
   "metadata": {},
   "outputs": [],
   "source": []
  }
 ],
 "metadata": {
  "kernelspec": {
   "display_name": "Python 3 (ipykernel)",
   "language": "python",
   "name": "python3"
  },
  "language_info": {
   "codemirror_mode": {
    "name": "ipython",
    "version": 3
   },
   "file_extension": ".py",
   "mimetype": "text/x-python",
   "name": "python",
   "nbconvert_exporter": "python",
   "pygments_lexer": "ipython3",
   "version": "3.10.10"
  }
 },
 "nbformat": 4,
 "nbformat_minor": 5
}
